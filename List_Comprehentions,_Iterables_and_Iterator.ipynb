{
  "nbformat": 4,
  "nbformat_minor": 0,
  "metadata": {
    "colab": {
      "name": "List Comprehentions, Iterables and Iterator.ipynb",
      "provenance": [],
      "collapsed_sections": [],
      "authorship_tag": "ABX9TyMYn8xWUuHTVTAaS9As8aYi",
      "include_colab_link": true
    },
    "kernelspec": {
      "name": "python3",
      "display_name": "Python 3"
    },
    "language_info": {
      "name": "python"
    }
  },
  "cells": [
    {
      "cell_type": "markdown",
      "metadata": {
        "id": "view-in-github",
        "colab_type": "text"
      },
      "source": [
        "<a href=\"https://colab.research.google.com/github/agarwalarpit99/Python-code-snippets/blob/master/List_Comprehentions%2C_Iterables_and_Iterator.ipynb\" target=\"_parent\"><img src=\"https://colab.research.google.com/assets/colab-badge.svg\" alt=\"Open In Colab\"/></a>"
      ]
    },
    {
      "cell_type": "markdown",
      "source": [
        "List Comprehentions\n"
      ],
      "metadata": {
        "id": "IEGd357c24Mp"
      }
    },
    {
      "cell_type": "code",
      "execution_count": 1,
      "metadata": {
        "id": "sa4ct7Tn20XW"
      },
      "outputs": [],
      "source": [
        "#example\n",
        "def fn(lst):\n",
        "  lst1=[]\n",
        "  for i in lst:\n",
        "    lst1.append(i*i)\n",
        "  return lst1"
      ]
    },
    {
      "cell_type": "code",
      "source": [
        "print(fn([1,2,3,4,5]))"
      ],
      "metadata": {
        "colab": {
          "base_uri": "https://localhost:8080/"
        },
        "id": "fus5lxgs3Q54",
        "outputId": "db755c8c-781a-46a8-d438-2e3066ce499b"
      },
      "execution_count": 2,
      "outputs": [
        {
          "output_type": "stream",
          "name": "stdout",
          "text": [
            "[1, 4, 9, 16, 25]\n"
          ]
        }
      ]
    },
    {
      "cell_type": "code",
      "source": [
        "#By list comprention\n",
        "#syntax - [return forloop ifclause(if any)]"
      ],
      "metadata": {
        "id": "jzb87bzL3VK0"
      },
      "execution_count": 4,
      "outputs": []
    },
    {
      "cell_type": "code",
      "source": [
        "lst=[1,2,3,4,5]"
      ],
      "metadata": {
        "id": "ahwpGrXR3uzr"
      },
      "execution_count": 6,
      "outputs": []
    },
    {
      "cell_type": "code",
      "source": [
        "\n",
        "[i*i for i in lst]"
      ],
      "metadata": {
        "colab": {
          "base_uri": "https://localhost:8080/"
        },
        "id": "bl1lOwzf3g90",
        "outputId": "22a14e6b-8ef5-4810-853f-454cc5a83ea3"
      },
      "execution_count": 7,
      "outputs": [
        {
          "output_type": "execute_result",
          "data": {
            "text/plain": [
              "[1, 4, 9, 16, 25]"
            ]
          },
          "metadata": {},
          "execution_count": 7
        }
      ]
    },
    {
      "cell_type": "code",
      "source": [
        "[i*i for i in lst if i%2==0]"
      ],
      "metadata": {
        "colab": {
          "base_uri": "https://localhost:8080/"
        },
        "id": "vkP_7nIr3tT3",
        "outputId": "25f6375b-b6b5-4b3a-ff1b-2d7f7deb6193"
      },
      "execution_count": 8,
      "outputs": [
        {
          "output_type": "execute_result",
          "data": {
            "text/plain": [
              "[4, 16]"
            ]
          },
          "metadata": {},
          "execution_count": 8
        }
      ]
    },
    {
      "cell_type": "markdown",
      "source": [
        ""
      ],
      "metadata": {
        "id": "mGSA6yu-7yN9"
      }
    },
    {
      "cell_type": "markdown",
      "source": [
        ""
      ],
      "metadata": {
        "id": "FraSfzcI7zbV"
      }
    },
    {
      "cell_type": "markdown",
      "source": [
        "Iterable and Iterators\n"
      ],
      "metadata": {
        "id": "cgFjeM1n7p9T"
      }
    },
    {
      "cell_type": "markdown",
      "source": [
        "The main difference between the two is iterable are like list i.e on defining the lisy all the elements of the list intialize and store on a memory location. Wheras iterators are diffent, on making the list as iterator all the elements are not stored in memory.It only initilazi and store in a memory once we call a next function. \n",
        "Hence helps us is memory management. Bcaue we don't unnessaay store th values of a huge list in a memory by using iterators\n"
      ],
      "metadata": {
        "id": "iBM4Q9Fk70bn"
      }
    },
    {
      "cell_type": "code",
      "source": [
        "#iterables\n",
        "ltt=[1,2,3,4,5,6,7,8]\n",
        "for i in ltt:\n",
        "  print(i)"
      ],
      "metadata": {
        "colab": {
          "base_uri": "https://localhost:8080/"
        },
        "id": "Q3w1oSMq33sk",
        "outputId": "59f0f902-d55f-449f-e264-76f8455b3b19"
      },
      "execution_count": 25,
      "outputs": [
        {
          "output_type": "stream",
          "name": "stdout",
          "text": [
            "1\n",
            "2\n",
            "3\n",
            "4\n",
            "5\n",
            "6\n",
            "7\n",
            "8\n"
          ]
        }
      ]
    },
    {
      "cell_type": "code",
      "source": [
        "#iterator\n",
        "iter1=iter(ltt)"
      ],
      "metadata": {
        "colab": {
          "base_uri": "https://localhost:8080/",
          "height": 184
        },
        "id": "UMMSSOu_81JY",
        "outputId": "8d0c6cda-afad-4d26-e639-391affb8813e"
      },
      "execution_count": 26,
      "outputs": [
        {
          "output_type": "error",
          "ename": "TypeError",
          "evalue": "ignored",
          "traceback": [
            "\u001b[0;31m---------------------------------------------------------------------------\u001b[0m",
            "\u001b[0;31mTypeError\u001b[0m                                 Traceback (most recent call last)",
            "\u001b[0;32m<ipython-input-26-32c6c1f43927>\u001b[0m in \u001b[0;36m<module>\u001b[0;34m()\u001b[0m\n\u001b[1;32m      1\u001b[0m \u001b[0;31m#iterator\u001b[0m\u001b[0;34m\u001b[0m\u001b[0;34m\u001b[0m\u001b[0;34m\u001b[0m\u001b[0m\n\u001b[0;32m----> 2\u001b[0;31m \u001b[0miter1\u001b[0m\u001b[0;34m=\u001b[0m\u001b[0miter\u001b[0m\u001b[0;34m(\u001b[0m\u001b[0mltt\u001b[0m\u001b[0;34m)\u001b[0m\u001b[0;34m\u001b[0m\u001b[0;34m\u001b[0m\u001b[0m\n\u001b[0m",
            "\u001b[0;31mTypeError\u001b[0m: 'list_iterator' object is not callable"
          ]
        }
      ]
    },
    {
      "cell_type": "code",
      "source": [
        "next(iter)"
      ],
      "metadata": {
        "colab": {
          "base_uri": "https://localhost:8080/"
        },
        "id": "sXQdN-2h86qT",
        "outputId": "66ffa077-b35f-4ecd-c897-461b7d7d0bcc"
      },
      "execution_count": 13,
      "outputs": [
        {
          "output_type": "execute_result",
          "data": {
            "text/plain": [
              "1"
            ]
          },
          "metadata": {},
          "execution_count": 13
        }
      ]
    },
    {
      "cell_type": "code",
      "source": [
        "next(iter)"
      ],
      "metadata": {
        "colab": {
          "base_uri": "https://localhost:8080/"
        },
        "id": "dkvXqR0589F7",
        "outputId": "b8047d31-d928-4a56-dfff-e6b143f100e3"
      },
      "execution_count": 14,
      "outputs": [
        {
          "output_type": "execute_result",
          "data": {
            "text/plain": [
              "2"
            ]
          },
          "metadata": {},
          "execution_count": 14
        }
      ]
    },
    {
      "cell_type": "code",
      "source": [
        "for i in iter:\n",
        "  print(i)"
      ],
      "metadata": {
        "id": "ofQysWlu9IkA"
      },
      "execution_count": 19,
      "outputs": []
    },
    {
      "cell_type": "code",
      "source": [
        "lt=[2,3,4,5,6]"
      ],
      "metadata": {
        "id": "ZdHTY0at9MWb"
      },
      "execution_count": 27,
      "outputs": []
    },
    {
      "cell_type": "code",
      "source": [
        "it=iter(lt)"
      ],
      "metadata": {
        "colab": {
          "base_uri": "https://localhost:8080/",
          "height": 166
        },
        "id": "6hcAExjw-Npl",
        "outputId": "0bc44889-1fc1-4cb6-de5a-5c09795dce21"
      },
      "execution_count": 28,
      "outputs": [
        {
          "output_type": "error",
          "ename": "TypeError",
          "evalue": "ignored",
          "traceback": [
            "\u001b[0;31m---------------------------------------------------------------------------\u001b[0m",
            "\u001b[0;31mTypeError\u001b[0m                                 Traceback (most recent call last)",
            "\u001b[0;32m<ipython-input-28-30faf95c2945>\u001b[0m in \u001b[0;36m<module>\u001b[0;34m()\u001b[0m\n\u001b[0;32m----> 1\u001b[0;31m \u001b[0mit\u001b[0m\u001b[0;34m=\u001b[0m\u001b[0miter\u001b[0m\u001b[0;34m(\u001b[0m\u001b[0mlt\u001b[0m\u001b[0;34m)\u001b[0m\u001b[0;34m\u001b[0m\u001b[0;34m\u001b[0m\u001b[0m\n\u001b[0m",
            "\u001b[0;31mTypeError\u001b[0m: 'list_iterator' object is not callable"
          ]
        }
      ]
    },
    {
      "cell_type": "code",
      "source": [
        ""
      ],
      "metadata": {
        "id": "5MG7EnWx-Qkj"
      },
      "execution_count": null,
      "outputs": []
    }
  ]
}